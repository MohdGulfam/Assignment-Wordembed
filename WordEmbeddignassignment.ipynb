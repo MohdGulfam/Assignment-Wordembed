{
  "nbformat": 4,
  "nbformat_minor": 0,
  "metadata": {
    "colab": {
      "name": "WordEmbeddignassignment.ipynb",
      "provenance": [],
      "collapsed_sections": []
    },
    "kernelspec": {
      "name": "python3",
      "display_name": "Python 3"
    }
  },
  "cells": [
    {
      "cell_type": "code",
      "metadata": {
        "id": "HXCWw-MUkkAY",
        "colab_type": "code",
        "colab": {}
      },
      "source": [
        "import matplotlib.pyplot as plt \n"
      ],
      "execution_count": null,
      "outputs": []
    },
    {
      "cell_type": "code",
      "metadata": {
        "id": "2Q4_AhulmuyJ",
        "colab_type": "code",
        "colab": {}
      },
      "source": [
        "import nltk\n",
        "\n",
        "from gensim.models import Word2Vec\n",
        "from nltk.corpus import stopwords\n",
        "import matplotlib.pyplot as plt\n",
        "%matplotlib inline\n",
        "import re\n",
        "\n",
        "paragraph = \"\"\"The applications for artificial intelligence are endless. The technology can be applied to many different sectors and industries. AI is being \n",
        "              ested and used in the healthcare industry for dosing drugs and different treatment in patients, and for surgical procedures in the operating room.\n",
        "              Other examples of machines with artificial intelligence include computers that play chess and self-driving cars. Each of these machines must weigh \n",
        "              the consequences of any action they take, as each action will impact the end result. In chess, the end result is winning the game. For \n",
        "              self-driving cars, the computer \n",
        "              system must account for all external data and compute it to act in a way that prevents a collision.\n",
        "              Artificial intelligence also has applications in the financial industry, where it is used to detect and flag activity in banking and finance \n",
        "              such as unusual debit card usage and large account deposits—all of which help a bank's fraud department. Applications for AI are also being \n",
        "              used to help streamline and make trading easier. This is done by making supply, demand, and pricing of securities easier to estimate\n",
        "              When most people hear the term artificial intelligence, the first thing they usually think of is robots. That's because big-budget films and novels weave stories \n",
        "              about human-like machines that wreak havoc on Earth. But nothing could be further from the truth.\n",
        "              Artificial intelligence is based on the principle that human intelligence can be defined in a way that a machine can easily mimic it and execute tasks, \n",
        "              from the most simple to those that are even more complex. The goals of artificial intelligence include learning, reasoning, and perception.\n",
        "              As technology advances, previous benchmarks that defined artificial intelligence become outdated. For example, machines that calculate basic \n",
        "              functions or recognize text through optimal character recognition are no longer considered to embody artificial intelligence, since this function \n",
        "              is now taken for granted as an inherent computer function.\n",
        "              AI is continuously evolving to benefit many different industries. Machines are wired using a cross-disciplinary approach based in mathematics, \n",
        "              computer science, linguistics, psychology, and more.\"\"\""
      ],
      "execution_count": null,
      "outputs": []
    },
    {
      "cell_type": "code",
      "metadata": {
        "id": "Ap9a3UyAmiVP",
        "colab_type": "code",
        "colab": {}
      },
      "source": [
        "\n",
        "text = re.sub(r'\\[[0-9]*\\]',' ',paragraph)\n",
        "text = re.sub(r'\\s+',' ',text)\n",
        "\n",
        "text = text.lower()\n",
        "\n",
        "text = re.sub(r'\\d',' ',text)\n",
        "text = re.sub(r'\\s+',' ',text)"
      ],
      "execution_count": null,
      "outputs": []
    },
    {
      "cell_type": "code",
      "metadata": {
        "id": "tiw_6qmQowZX",
        "colab_type": "code",
        "colab": {
          "base_uri": "https://localhost:8080/",
          "height": 102
        },
        "outputId": "9ac2ee8d-53e0-4053-f135-0968357a9e64"
      },
      "source": [
        "import nltk\n",
        "nltk.download('punkt')\n",
        "nltk.download('stopwords')\n"
      ],
      "execution_count": null,
      "outputs": [
        {
          "output_type": "stream",
          "text": [
            "[nltk_data] Downloading package punkt to /root/nltk_data...\n",
            "[nltk_data]   Unzipping tokenizers/punkt.zip.\n",
            "[nltk_data] Downloading package stopwords to /root/nltk_data...\n",
            "[nltk_data]   Unzipping corpora/stopwords.zip.\n"
          ],
          "name": "stdout"
        },
        {
          "output_type": "execute_result",
          "data": {
            "text/plain": [
              "True"
            ]
          },
          "metadata": {
            "tags": []
          },
          "execution_count": 7
        }
      ]
    },
    {
      "cell_type": "code",
      "metadata": {
        "id": "cJWIif9Vo6TT",
        "colab_type": "code",
        "colab": {
          "base_uri": "https://localhost:8080/",
          "height": 343
        },
        "outputId": "08f72294-3fc2-4850-cadc-68fd4a8a7328"
      },
      "source": [
        "sentences = nltk.sent_tokenize(text)\n",
        "sentences"
      ],
      "execution_count": null,
      "outputs": [
        {
          "output_type": "execute_result",
          "data": {
            "text/plain": [
              "['the applications for artificial intelligence are endless.',\n",
              " 'the technology can be applied to many different sectors and industries.',\n",
              " 'ai is being ested and used in the healthcare industry for dosing drugs and different treatment in patients, and for surgical procedures in the operating room.',\n",
              " 'other examples of machines with artificial intelligence include computers that play chess and self-driving cars.',\n",
              " 'each of these machines must weigh the consequences of any action they take, as each action will impact the end result.',\n",
              " 'in chess, the end result is winning the game.',\n",
              " 'for self-driving cars, the computer system must account for all external data and compute it to act in a way that prevents a collision.',\n",
              " \"artificial intelligence also has applications in the financial industry, where it is used to detect and flag activity in banking and finance such as unusual debit card usage and large account deposits—all of which help a bank's fraud department.\",\n",
              " 'applications for ai are also being used to help streamline and make trading easier.',\n",
              " 'this is done by making supply, demand, and pricing of securities easier to estimate when most people hear the term artificial intelligence, the first thing they usually think of is robots.',\n",
              " \"that's because big-budget films and novels weave stories about human-like machines that wreak havoc on earth.\",\n",
              " 'but nothing could be further from the truth.',\n",
              " 'artificial intelligence is based on the principle that human intelligence can be defined in a way that a machine can easily mimic it and execute tasks, from the most simple to those that are even more complex.',\n",
              " 'the goals of artificial intelligence include learning, reasoning, and perception.',\n",
              " 'as technology advances, previous benchmarks that defined artificial intelligence become outdated.',\n",
              " 'for example, machines that calculate basic functions or recognize text through optimal character recognition are no longer considered to embody artificial intelligence, since this function is now taken for granted as an inherent computer function.',\n",
              " 'ai is continuously evolving to benefit many different industries.',\n",
              " 'machines are wired using a cross-disciplinary approach based in mathematics, computer science, linguistics, psychology, and more.']"
            ]
          },
          "metadata": {
            "tags": []
          },
          "execution_count": 8
        }
      ]
    },
    {
      "cell_type": "code",
      "metadata": {
        "id": "FEWtwY2No90P",
        "colab_type": "code",
        "colab": {}
      },
      "source": [
        "sent_word = [nltk.word_tokenize(sentence) for sentence in sentences]"
      ],
      "execution_count": null,
      "outputs": []
    },
    {
      "cell_type": "code",
      "metadata": {
        "id": "qD6ZkHvSpEIw",
        "colab_type": "code",
        "colab": {
          "base_uri": "https://localhost:8080/",
          "height": 1000
        },
        "outputId": "71a09d81-d40d-4a04-9f30-92808f7b41b0"
      },
      "source": [
        "sent_word"
      ],
      "execution_count": null,
      "outputs": [
        {
          "output_type": "execute_result",
          "data": {
            "text/plain": [
              "[['the',\n",
              "  'applications',\n",
              "  'for',\n",
              "  'artificial',\n",
              "  'intelligence',\n",
              "  'are',\n",
              "  'endless',\n",
              "  '.'],\n",
              " ['the',\n",
              "  'technology',\n",
              "  'can',\n",
              "  'be',\n",
              "  'applied',\n",
              "  'to',\n",
              "  'many',\n",
              "  'different',\n",
              "  'sectors',\n",
              "  'and',\n",
              "  'industries',\n",
              "  '.'],\n",
              " ['ai',\n",
              "  'is',\n",
              "  'being',\n",
              "  'ested',\n",
              "  'and',\n",
              "  'used',\n",
              "  'in',\n",
              "  'the',\n",
              "  'healthcare',\n",
              "  'industry',\n",
              "  'for',\n",
              "  'dosing',\n",
              "  'drugs',\n",
              "  'and',\n",
              "  'different',\n",
              "  'treatment',\n",
              "  'in',\n",
              "  'patients',\n",
              "  ',',\n",
              "  'and',\n",
              "  'for',\n",
              "  'surgical',\n",
              "  'procedures',\n",
              "  'in',\n",
              "  'the',\n",
              "  'operating',\n",
              "  'room',\n",
              "  '.'],\n",
              " ['other',\n",
              "  'examples',\n",
              "  'of',\n",
              "  'machines',\n",
              "  'with',\n",
              "  'artificial',\n",
              "  'intelligence',\n",
              "  'include',\n",
              "  'computers',\n",
              "  'that',\n",
              "  'play',\n",
              "  'chess',\n",
              "  'and',\n",
              "  'self-driving',\n",
              "  'cars',\n",
              "  '.'],\n",
              " ['each',\n",
              "  'of',\n",
              "  'these',\n",
              "  'machines',\n",
              "  'must',\n",
              "  'weigh',\n",
              "  'the',\n",
              "  'consequences',\n",
              "  'of',\n",
              "  'any',\n",
              "  'action',\n",
              "  'they',\n",
              "  'take',\n",
              "  ',',\n",
              "  'as',\n",
              "  'each',\n",
              "  'action',\n",
              "  'will',\n",
              "  'impact',\n",
              "  'the',\n",
              "  'end',\n",
              "  'result',\n",
              "  '.'],\n",
              " ['in',\n",
              "  'chess',\n",
              "  ',',\n",
              "  'the',\n",
              "  'end',\n",
              "  'result',\n",
              "  'is',\n",
              "  'winning',\n",
              "  'the',\n",
              "  'game',\n",
              "  '.'],\n",
              " ['for',\n",
              "  'self-driving',\n",
              "  'cars',\n",
              "  ',',\n",
              "  'the',\n",
              "  'computer',\n",
              "  'system',\n",
              "  'must',\n",
              "  'account',\n",
              "  'for',\n",
              "  'all',\n",
              "  'external',\n",
              "  'data',\n",
              "  'and',\n",
              "  'compute',\n",
              "  'it',\n",
              "  'to',\n",
              "  'act',\n",
              "  'in',\n",
              "  'a',\n",
              "  'way',\n",
              "  'that',\n",
              "  'prevents',\n",
              "  'a',\n",
              "  'collision',\n",
              "  '.'],\n",
              " ['artificial',\n",
              "  'intelligence',\n",
              "  'also',\n",
              "  'has',\n",
              "  'applications',\n",
              "  'in',\n",
              "  'the',\n",
              "  'financial',\n",
              "  'industry',\n",
              "  ',',\n",
              "  'where',\n",
              "  'it',\n",
              "  'is',\n",
              "  'used',\n",
              "  'to',\n",
              "  'detect',\n",
              "  'and',\n",
              "  'flag',\n",
              "  'activity',\n",
              "  'in',\n",
              "  'banking',\n",
              "  'and',\n",
              "  'finance',\n",
              "  'such',\n",
              "  'as',\n",
              "  'unusual',\n",
              "  'debit',\n",
              "  'card',\n",
              "  'usage',\n",
              "  'and',\n",
              "  'large',\n",
              "  'account',\n",
              "  'deposits—all',\n",
              "  'of',\n",
              "  'which',\n",
              "  'help',\n",
              "  'a',\n",
              "  'bank',\n",
              "  \"'s\",\n",
              "  'fraud',\n",
              "  'department',\n",
              "  '.'],\n",
              " ['applications',\n",
              "  'for',\n",
              "  'ai',\n",
              "  'are',\n",
              "  'also',\n",
              "  'being',\n",
              "  'used',\n",
              "  'to',\n",
              "  'help',\n",
              "  'streamline',\n",
              "  'and',\n",
              "  'make',\n",
              "  'trading',\n",
              "  'easier',\n",
              "  '.'],\n",
              " ['this',\n",
              "  'is',\n",
              "  'done',\n",
              "  'by',\n",
              "  'making',\n",
              "  'supply',\n",
              "  ',',\n",
              "  'demand',\n",
              "  ',',\n",
              "  'and',\n",
              "  'pricing',\n",
              "  'of',\n",
              "  'securities',\n",
              "  'easier',\n",
              "  'to',\n",
              "  'estimate',\n",
              "  'when',\n",
              "  'most',\n",
              "  'people',\n",
              "  'hear',\n",
              "  'the',\n",
              "  'term',\n",
              "  'artificial',\n",
              "  'intelligence',\n",
              "  ',',\n",
              "  'the',\n",
              "  'first',\n",
              "  'thing',\n",
              "  'they',\n",
              "  'usually',\n",
              "  'think',\n",
              "  'of',\n",
              "  'is',\n",
              "  'robots',\n",
              "  '.'],\n",
              " ['that',\n",
              "  \"'s\",\n",
              "  'because',\n",
              "  'big-budget',\n",
              "  'films',\n",
              "  'and',\n",
              "  'novels',\n",
              "  'weave',\n",
              "  'stories',\n",
              "  'about',\n",
              "  'human-like',\n",
              "  'machines',\n",
              "  'that',\n",
              "  'wreak',\n",
              "  'havoc',\n",
              "  'on',\n",
              "  'earth',\n",
              "  '.'],\n",
              " ['but', 'nothing', 'could', 'be', 'further', 'from', 'the', 'truth', '.'],\n",
              " ['artificial',\n",
              "  'intelligence',\n",
              "  'is',\n",
              "  'based',\n",
              "  'on',\n",
              "  'the',\n",
              "  'principle',\n",
              "  'that',\n",
              "  'human',\n",
              "  'intelligence',\n",
              "  'can',\n",
              "  'be',\n",
              "  'defined',\n",
              "  'in',\n",
              "  'a',\n",
              "  'way',\n",
              "  'that',\n",
              "  'a',\n",
              "  'machine',\n",
              "  'can',\n",
              "  'easily',\n",
              "  'mimic',\n",
              "  'it',\n",
              "  'and',\n",
              "  'execute',\n",
              "  'tasks',\n",
              "  ',',\n",
              "  'from',\n",
              "  'the',\n",
              "  'most',\n",
              "  'simple',\n",
              "  'to',\n",
              "  'those',\n",
              "  'that',\n",
              "  'are',\n",
              "  'even',\n",
              "  'more',\n",
              "  'complex',\n",
              "  '.'],\n",
              " ['the',\n",
              "  'goals',\n",
              "  'of',\n",
              "  'artificial',\n",
              "  'intelligence',\n",
              "  'include',\n",
              "  'learning',\n",
              "  ',',\n",
              "  'reasoning',\n",
              "  ',',\n",
              "  'and',\n",
              "  'perception',\n",
              "  '.'],\n",
              " ['as',\n",
              "  'technology',\n",
              "  'advances',\n",
              "  ',',\n",
              "  'previous',\n",
              "  'benchmarks',\n",
              "  'that',\n",
              "  'defined',\n",
              "  'artificial',\n",
              "  'intelligence',\n",
              "  'become',\n",
              "  'outdated',\n",
              "  '.'],\n",
              " ['for',\n",
              "  'example',\n",
              "  ',',\n",
              "  'machines',\n",
              "  'that',\n",
              "  'calculate',\n",
              "  'basic',\n",
              "  'functions',\n",
              "  'or',\n",
              "  'recognize',\n",
              "  'text',\n",
              "  'through',\n",
              "  'optimal',\n",
              "  'character',\n",
              "  'recognition',\n",
              "  'are',\n",
              "  'no',\n",
              "  'longer',\n",
              "  'considered',\n",
              "  'to',\n",
              "  'embody',\n",
              "  'artificial',\n",
              "  'intelligence',\n",
              "  ',',\n",
              "  'since',\n",
              "  'this',\n",
              "  'function',\n",
              "  'is',\n",
              "  'now',\n",
              "  'taken',\n",
              "  'for',\n",
              "  'granted',\n",
              "  'as',\n",
              "  'an',\n",
              "  'inherent',\n",
              "  'computer',\n",
              "  'function',\n",
              "  '.'],\n",
              " ['ai',\n",
              "  'is',\n",
              "  'continuously',\n",
              "  'evolving',\n",
              "  'to',\n",
              "  'benefit',\n",
              "  'many',\n",
              "  'different',\n",
              "  'industries',\n",
              "  '.'],\n",
              " ['machines',\n",
              "  'are',\n",
              "  'wired',\n",
              "  'using',\n",
              "  'a',\n",
              "  'cross-disciplinary',\n",
              "  'approach',\n",
              "  'based',\n",
              "  'in',\n",
              "  'mathematics',\n",
              "  ',',\n",
              "  'computer',\n",
              "  'science',\n",
              "  ',',\n",
              "  'linguistics',\n",
              "  ',',\n",
              "  'psychology',\n",
              "  ',',\n",
              "  'and',\n",
              "  'more',\n",
              "  '.']]"
            ]
          },
          "metadata": {
            "tags": []
          },
          "execution_count": 10
        }
      ]
    },
    {
      "cell_type": "code",
      "metadata": {
        "id": "hdroVPRHpF-i",
        "colab_type": "code",
        "colab": {}
      },
      "source": [
        "\n",
        "\n",
        "for i in range(len(sent_word)):\n",
        "    sent_word[i] = [word for word in sent_word[i]\n",
        "                    if word not in stopwords.words('english')]"
      ],
      "execution_count": null,
      "outputs": []
    },
    {
      "cell_type": "code",
      "metadata": {
        "id": "5D5KE8OopK_p",
        "colab_type": "code",
        "colab": {
          "base_uri": "https://localhost:8080/",
          "height": 1000
        },
        "outputId": "699131d8-23d7-4bab-de3a-c6c77c546a75"
      },
      "source": [
        "sent_word"
      ],
      "execution_count": null,
      "outputs": [
        {
          "output_type": "execute_result",
          "data": {
            "text/plain": [
              "[['applications', 'artificial', 'intelligence', 'endless', '.'],\n",
              " ['technology', 'applied', 'many', 'different', 'sectors', 'industries', '.'],\n",
              " ['ai',\n",
              "  'ested',\n",
              "  'used',\n",
              "  'healthcare',\n",
              "  'industry',\n",
              "  'dosing',\n",
              "  'drugs',\n",
              "  'different',\n",
              "  'treatment',\n",
              "  'patients',\n",
              "  ',',\n",
              "  'surgical',\n",
              "  'procedures',\n",
              "  'operating',\n",
              "  'room',\n",
              "  '.'],\n",
              " ['examples',\n",
              "  'machines',\n",
              "  'artificial',\n",
              "  'intelligence',\n",
              "  'include',\n",
              "  'computers',\n",
              "  'play',\n",
              "  'chess',\n",
              "  'self-driving',\n",
              "  'cars',\n",
              "  '.'],\n",
              " ['machines',\n",
              "  'must',\n",
              "  'weigh',\n",
              "  'consequences',\n",
              "  'action',\n",
              "  'take',\n",
              "  ',',\n",
              "  'action',\n",
              "  'impact',\n",
              "  'end',\n",
              "  'result',\n",
              "  '.'],\n",
              " ['chess', ',', 'end', 'result', 'winning', 'game', '.'],\n",
              " ['self-driving',\n",
              "  'cars',\n",
              "  ',',\n",
              "  'computer',\n",
              "  'system',\n",
              "  'must',\n",
              "  'account',\n",
              "  'external',\n",
              "  'data',\n",
              "  'compute',\n",
              "  'act',\n",
              "  'way',\n",
              "  'prevents',\n",
              "  'collision',\n",
              "  '.'],\n",
              " ['artificial',\n",
              "  'intelligence',\n",
              "  'also',\n",
              "  'applications',\n",
              "  'financial',\n",
              "  'industry',\n",
              "  ',',\n",
              "  'used',\n",
              "  'detect',\n",
              "  'flag',\n",
              "  'activity',\n",
              "  'banking',\n",
              "  'finance',\n",
              "  'unusual',\n",
              "  'debit',\n",
              "  'card',\n",
              "  'usage',\n",
              "  'large',\n",
              "  'account',\n",
              "  'deposits—all',\n",
              "  'help',\n",
              "  'bank',\n",
              "  \"'s\",\n",
              "  'fraud',\n",
              "  'department',\n",
              "  '.'],\n",
              " ['applications',\n",
              "  'ai',\n",
              "  'also',\n",
              "  'used',\n",
              "  'help',\n",
              "  'streamline',\n",
              "  'make',\n",
              "  'trading',\n",
              "  'easier',\n",
              "  '.'],\n",
              " ['done',\n",
              "  'making',\n",
              "  'supply',\n",
              "  ',',\n",
              "  'demand',\n",
              "  ',',\n",
              "  'pricing',\n",
              "  'securities',\n",
              "  'easier',\n",
              "  'estimate',\n",
              "  'people',\n",
              "  'hear',\n",
              "  'term',\n",
              "  'artificial',\n",
              "  'intelligence',\n",
              "  ',',\n",
              "  'first',\n",
              "  'thing',\n",
              "  'usually',\n",
              "  'think',\n",
              "  'robots',\n",
              "  '.'],\n",
              " [\"'s\",\n",
              "  'big-budget',\n",
              "  'films',\n",
              "  'novels',\n",
              "  'weave',\n",
              "  'stories',\n",
              "  'human-like',\n",
              "  'machines',\n",
              "  'wreak',\n",
              "  'havoc',\n",
              "  'earth',\n",
              "  '.'],\n",
              " ['nothing', 'could', 'truth', '.'],\n",
              " ['artificial',\n",
              "  'intelligence',\n",
              "  'based',\n",
              "  'principle',\n",
              "  'human',\n",
              "  'intelligence',\n",
              "  'defined',\n",
              "  'way',\n",
              "  'machine',\n",
              "  'easily',\n",
              "  'mimic',\n",
              "  'execute',\n",
              "  'tasks',\n",
              "  ',',\n",
              "  'simple',\n",
              "  'even',\n",
              "  'complex',\n",
              "  '.'],\n",
              " ['goals',\n",
              "  'artificial',\n",
              "  'intelligence',\n",
              "  'include',\n",
              "  'learning',\n",
              "  ',',\n",
              "  'reasoning',\n",
              "  ',',\n",
              "  'perception',\n",
              "  '.'],\n",
              " ['technology',\n",
              "  'advances',\n",
              "  ',',\n",
              "  'previous',\n",
              "  'benchmarks',\n",
              "  'defined',\n",
              "  'artificial',\n",
              "  'intelligence',\n",
              "  'become',\n",
              "  'outdated',\n",
              "  '.'],\n",
              " ['example',\n",
              "  ',',\n",
              "  'machines',\n",
              "  'calculate',\n",
              "  'basic',\n",
              "  'functions',\n",
              "  'recognize',\n",
              "  'text',\n",
              "  'optimal',\n",
              "  'character',\n",
              "  'recognition',\n",
              "  'longer',\n",
              "  'considered',\n",
              "  'embody',\n",
              "  'artificial',\n",
              "  'intelligence',\n",
              "  ',',\n",
              "  'since',\n",
              "  'function',\n",
              "  'taken',\n",
              "  'granted',\n",
              "  'inherent',\n",
              "  'computer',\n",
              "  'function',\n",
              "  '.'],\n",
              " ['ai',\n",
              "  'continuously',\n",
              "  'evolving',\n",
              "  'benefit',\n",
              "  'many',\n",
              "  'different',\n",
              "  'industries',\n",
              "  '.'],\n",
              " ['machines',\n",
              "  'wired',\n",
              "  'using',\n",
              "  'cross-disciplinary',\n",
              "  'approach',\n",
              "  'based',\n",
              "  'mathematics',\n",
              "  ',',\n",
              "  'computer',\n",
              "  'science',\n",
              "  ',',\n",
              "  'linguistics',\n",
              "  ',',\n",
              "  'psychology',\n",
              "  ',',\n",
              "  '.']]"
            ]
          },
          "metadata": {
            "tags": []
          },
          "execution_count": 12
        }
      ]
    },
    {
      "cell_type": "code",
      "metadata": {
        "id": "aEP4h-xfpTrZ",
        "colab_type": "code",
        "colab": {}
      },
      "source": [
        "\n",
        "model = Word2Vec(sent_word, min_count=1)\n",
        "words = model.wv.vocab"
      ],
      "execution_count": null,
      "outputs": []
    },
    {
      "cell_type": "code",
      "metadata": {
        "id": "579MA5y0pZ4l",
        "colab_type": "code",
        "colab": {
          "base_uri": "https://localhost:8080/",
          "height": 442
        },
        "outputId": "1bacc487-27a2-4ddc-8b76-29df024abd22"
      },
      "source": [
        "\n",
        "vector = model.wv['computer']\n",
        "print(vector)"
      ],
      "execution_count": null,
      "outputs": [
        {
          "output_type": "stream",
          "text": [
            "[-5.60302520e-04  3.51156294e-03 -3.99137102e-03 -2.73494492e-03\n",
            " -3.10093374e-03  1.23871583e-03 -2.20133271e-03  4.49600350e-03\n",
            "  4.37346660e-03 -9.78360069e-04  3.91807454e-03 -3.77214723e-03\n",
            " -7.85755983e-04 -1.16918923e-03  3.46200331e-03  3.72317503e-03\n",
            "  4.31303866e-03 -2.37990776e-03 -4.69704438e-03 -6.53097173e-04\n",
            "  2.62034056e-03 -1.26178516e-03 -3.15822940e-03 -1.22814532e-03\n",
            " -4.70706075e-03  3.24334996e-03 -4.69106053e-05  4.28858260e-03\n",
            "  1.87111343e-03  2.63685803e-03 -2.91324104e-03  2.48138211e-04\n",
            " -4.17312048e-03  4.43408964e-03 -1.06843887e-03 -8.88652576e-04\n",
            " -1.89110346e-03  4.00049705e-03 -3.98837915e-03  2.49152188e-03\n",
            "  2.64902459e-03 -2.62469193e-03  1.44822523e-03 -2.47669034e-03\n",
            " -3.76031338e-03 -4.78043128e-03 -2.57507456e-03  5.47044619e-05\n",
            "  4.41543665e-03  6.72788650e-04  4.75533307e-03  3.89693864e-03\n",
            "  4.82542440e-03  6.56548131e-04 -2.88374629e-03 -4.42608586e-03\n",
            " -1.74863046e-04 -1.07333362e-04 -2.88473745e-03 -2.75477814e-03\n",
            " -2.47393036e-03 -3.97877675e-03 -1.69744540e-04 -4.27603768e-03\n",
            "  1.74474705e-03  1.22801386e-04 -6.85833045e-04 -2.13371799e-03\n",
            "  4.90833959e-03 -4.08084830e-03 -3.34010343e-03 -4.49557696e-03\n",
            " -4.40085167e-03  7.82495597e-04 -2.10714024e-05  2.09149579e-03\n",
            "  7.22065975e-04  3.50049371e-03 -1.40280945e-05 -2.77693151e-03\n",
            " -2.49059033e-03  1.99954631e-03 -7.95915723e-04 -1.39600178e-03\n",
            "  2.20623752e-03 -3.61906062e-03  3.19274538e-03 -7.63485150e-04\n",
            "  2.80859973e-03  2.38211174e-03 -2.08097720e-03  4.85152146e-03\n",
            " -2.27238075e-03 -1.86417683e-03 -2.64047296e-03 -1.78107934e-03\n",
            " -1.44712627e-03 -6.73081493e-04 -3.42452130e-03  4.90551302e-03]\n"
          ],
          "name": "stdout"
        }
      ]
    },
    {
      "cell_type": "code",
      "metadata": {
        "id": "eFricA_AplPn",
        "colab_type": "code",
        "colab": {
          "base_uri": "https://localhost:8080/",
          "height": 156
        },
        "outputId": "f0d2996d-b796-4061-e262-37c6132d2b9f"
      },
      "source": [
        "\n",
        "similar = model.wv.most_similar('computer',topn=5)\n",
        "\n",
        "similar"
      ],
      "execution_count": null,
      "outputs": [
        {
          "output_type": "stream",
          "text": [
            "/usr/local/lib/python3.6/dist-packages/gensim/matutils.py:737: FutureWarning: Conversion of the second argument of issubdtype from `int` to `np.signedinteger` is deprecated. In future, it will be treated as `np.int64 == np.dtype(int).type`.\n",
            "  if np.issubdtype(vec.dtype, np.int):\n"
          ],
          "name": "stderr"
        },
        {
          "output_type": "execute_result",
          "data": {
            "text/plain": [
              "[('intelligence', 0.26856446266174316),\n",
              " ('machines', 0.25653547048568726),\n",
              " ('think', 0.24363046884536743),\n",
              " ('wired', 0.21237818896770477),\n",
              " ('robots', 0.1929091215133667)]"
            ]
          },
          "metadata": {
            "tags": []
          },
          "execution_count": 17
        }
      ]
    },
    {
      "cell_type": "code",
      "metadata": {
        "id": "PtSq2GiapsLu",
        "colab_type": "code",
        "colab": {
          "base_uri": "https://localhost:8080/",
          "height": 88
        },
        "outputId": "a9881f74-3936-495d-d483-22cb048424db"
      },
      "source": [
        "\n",
        "model.wv.similarity(w1='computer',w2='machine')"
      ],
      "execution_count": null,
      "outputs": [
        {
          "output_type": "stream",
          "text": [
            "/usr/local/lib/python3.6/dist-packages/gensim/matutils.py:737: FutureWarning: Conversion of the second argument of issubdtype from `int` to `np.signedinteger` is deprecated. In future, it will be treated as `np.int64 == np.dtype(int).type`.\n",
            "  if np.issubdtype(vec.dtype, np.int):\n"
          ],
          "name": "stderr"
        },
        {
          "output_type": "execute_result",
          "data": {
            "text/plain": [
              "0.1410899"
            ]
          },
          "metadata": {
            "tags": []
          },
          "execution_count": 20
        }
      ]
    },
    {
      "cell_type": "code",
      "metadata": {
        "id": "5sfg3C2up7Ma",
        "colab_type": "code",
        "colab": {
          "base_uri": "https://localhost:8080/",
          "height": 123
        },
        "outputId": "8c3ff7b9-1f3f-4d3b-d6cb-ad1ce0483c63"
      },
      "source": [
        "\n",
        "model.wv.doesnt_match(\n",
        "[\"data\",\"machine\",\"computer\",\"artificial\",\"learning\",\"deep\",\"application\",\"programme\",\"binary\",\"longer\",\"function\",\"table\"])"
      ],
      "execution_count": null,
      "outputs": [
        {
          "output_type": "stream",
          "text": [
            "/usr/local/lib/python3.6/dist-packages/gensim/models/keyedvectors.py:895: FutureWarning: arrays to stack must be passed as a \"sequence\" type such as list or tuple. Support for non-sequence iterables such as generators is deprecated as of NumPy 1.16 and will raise an error in the future.\n",
            "  vectors = vstack(self.word_vec(word, use_norm=True) for word in used_words).astype(REAL)\n",
            "/usr/local/lib/python3.6/dist-packages/gensim/matutils.py:737: FutureWarning: Conversion of the second argument of issubdtype from `int` to `np.signedinteger` is deprecated. In future, it will be treated as `np.int64 == np.dtype(int).type`.\n",
            "  if np.issubdtype(vec.dtype, np.int):\n"
          ],
          "name": "stderr"
        },
        {
          "output_type": "execute_result",
          "data": {
            "application/vnd.google.colaboratory.intrinsic+json": {
              "type": "string"
            },
            "text/plain": [
              "'data'"
            ]
          },
          "metadata": {
            "tags": []
          },
          "execution_count": 23
        }
      ]
    },
    {
      "cell_type": "code",
      "metadata": {
        "id": "jHtIw4sBq0xX",
        "colab_type": "code",
        "colab": {
          "base_uri": "https://localhost:8080/",
          "height": 537
        },
        "outputId": "40fa5967-eade-4803-9283-112a275bec5d"
      },
      "source": [
        "from sklearn.manifold import  TSNE\n",
        "vocab = [\"data\",\"machine\",\"computer\",\"artificial\",\"learning\",\"embody\",\"since\",\"longer\",\"function\",'recognize',\n",
        "  'text',\n",
        "  'optimal',\n",
        "  'character',\n",
        "  'recognition',\n",
        "  'longer']\n",
        "def tsne_plot(model):\n",
        "    labels = []\n",
        "    wordvecs = []\n",
        "\n",
        "    for word in vocab:\n",
        "        wordvecs.append(model[word])\n",
        "        labels.append(word)\n",
        "    \n",
        "    tsne_model = TSNE(perplexity=3, n_components=3, init='pca', random_state=42)\n",
        "    coordinates = tsne_model.fit_transform(wordvecs)\n",
        "\n",
        "    x = []\n",
        "    y = []\n",
        "    for value in coordinates:\n",
        "        x.append(value[0])\n",
        "        y.append(value[1])\n",
        "        \n",
        "    plt.figure(figsize=(15,8)) \n",
        "    for i in range(len(x)):\n",
        "        plt.scatter(x[i],y[i])\n",
        "        plt.annotate(labels[i],\n",
        "                     xy=(x[i], y[i]),\n",
        "                     xytext=(2, 2),\n",
        "                     textcoords='offset points', ha='left')\n",
        "\n",
        "    plt.show()\n",
        "\n",
        "tsne_plot(model)"
      ],
      "execution_count": null,
      "outputs": [
        {
          "output_type": "stream",
          "text": [
            "/usr/local/lib/python3.6/dist-packages/ipykernel_launcher.py:13: DeprecationWarning: Call to deprecated `__getitem__` (Method will be removed in 4.0.0, use self.wv.__getitem__() instead).\n",
            "  del sys.path[0]\n"
          ],
          "name": "stderr"
        },
        {
          "output_type": "display_data",
          "data": {
            "image/png": "[encoded data removed]",
            "text/plain": [
              "<Figure size 1080x576 with 1 Axes>"
            ]
          },
          "metadata": {
            "tags": [],
            "needs_background": "light"
          }
        }
      ]
    },
    {
      "cell_type": "code",
      "metadata": {
        "id": "ipLUpCscrd2L",
        "colab_type": "code",
        "colab": {}
      },
      "source": [
        ""
      ],
      "execution_count": null,
      "outputs": []
    },
    {
      "cell_type": "code",
      "metadata": {
        "id": "-Z8XYuK6rbBm",
        "colab_type": "code",
        "colab": {}
      },
      "source": [
        ""
      ],
      "execution_count": null,
      "outputs": []
    },
    {
      "cell_type": "code",
      "metadata": {
        "id": "ZJJVdKTsrRxt",
        "colab_type": "code",
        "colab": {}
      },
      "source": [
        ""
      ],
      "execution_count": null,
      "outputs": []
    },
    {
      "cell_type": "code",
      "metadata": {
        "id": "pmWecNcOrPR5",
        "colab_type": "code",
        "colab": {}
      },
      "source": [
        ""
      ],
      "execution_count": null,
      "outputs": []
    },
    {
      "cell_type": "code",
      "metadata": {
        "id": "K1BQZpF7rMKm",
        "colab_type": "code",
        "colab": {}
      },
      "source": [
        ""
      ],
      "execution_count": null,
      "outputs": []
    },
    {
      "cell_type": "code",
      "metadata": {
        "id": "kxCe6CojrFYl",
        "colab_type": "code",
        "colab": {}
      },
      "source": [
        ""
      ],
      "execution_count": null,
      "outputs": []
    },
    {
      "cell_type": "code",
      "metadata": {
        "id": "zsLZltmHrA7V",
        "colab_type": "code",
        "colab": {}
      },
      "source": [
        ""
      ],
      "execution_count": null,
      "outputs": []
    },
    {
      "cell_type": "code",
      "metadata": {
        "id": "xBJb-5Pvqxaw",
        "colab_type": "code",
        "colab": {}
      },
      "source": [
        ""
      ],
      "execution_count": null,
      "outputs": []
    },
    {
      "cell_type": "code",
      "metadata": {
        "id": "ToLEd-K7qlnR",
        "colab_type": "code",
        "colab": {}
      },
      "source": [
        ""
      ],
      "execution_count": null,
      "outputs": []
    },
    {
      "cell_type": "code",
      "metadata": {
        "id": "lApyz6_rp26r",
        "colab_type": "code",
        "colab": {}
      },
      "source": [
        ""
      ],
      "execution_count": null,
      "outputs": []
    },
    {
      "cell_type": "code",
      "metadata": {
        "id": "itne-UEJpz1s",
        "colab_type": "code",
        "colab": {}
      },
      "source": [
        ""
      ],
      "execution_count": null,
      "outputs": []
    },
    {
      "cell_type": "code",
      "metadata": {
        "id": "r0ibZ6WOpqDF",
        "colab_type": "code",
        "colab": {}
      },
      "source": [
        ""
      ],
      "execution_count": null,
      "outputs": []
    },
    {
      "cell_type": "code",
      "metadata": {
        "id": "4zvLXzgDpiGO",
        "colab_type": "code",
        "colab": {}
      },
      "source": [
        ""
      ],
      "execution_count": null,
      "outputs": []
    }
  ]
}